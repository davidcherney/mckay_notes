{
 "cells": [
  {
   "cell_type": "markdown",
   "id": "43da0992-c85f-4d6a-b0cc-7ba098a8a051",
   "metadata": {},
   "source": [
    "# Ch2: Probability, Entropy, and Inference\n",
    "\n",
    "**Definition:** An **ensemble** $X$ is a triple $(x,{\\cal {A}}_X , {\\cal P}_X)$ where the outcome $x$ is the value of a random variable that takes on one of the values in the finite set ${\\cal A}_X = \\{a_i\\in \\mathbb{R}\\, |\\, i \\in \\{1,\\dots,I\\}  \\}$ with probailities $P(x=a_i) = p_i$ in ${\\cal P}_X = \\{ p_1,\\dots,p_I \\}$ satisfying $\\sum_i p_i =1$. \n",
    "\n",
    "Note: $x$ then stands for what I have learned to call a random variable. "
   ]
  },
  {
   "cell_type": "markdown",
   "id": "f866f85a-599b-437e-9f8d-108e850212a8",
   "metadata": {},
   "source": [
    "# Part I: Data Compression "
   ]
  },
  {
   "cell_type": "markdown",
   "id": "2f9846cc-e658-422d-a132-50e1f1d3b68c",
   "metadata": {},
   "source": [
    "# Ch4: The Source Coding Theorem"
   ]
  },
  {
   "cell_type": "markdown",
   "id": "fd754258-fb1a-4082-a7e4-2c6f94a29b15",
   "metadata": {},
   "source": [
    "**Definition** The **Shannon information content** $h(x)$ of an outcome $x$ from an ensemble $X$ is $$h(x):=\\log_2\\left( \\frac1{P(x)} \\right).$$ \n",
    "\n",
    "Notes: \n",
    "- The Shannon information content is just called information for short. \n",
    "- I believe that events, as in sets of outcomes, have information too.\n",
    "- The units of inforamtion are called bits, and there is some motivation to conflate the following two words\n",
    "    - bits: number of binary digits in a string \n",
    "    - bits: the negative log probability of an outcome from an ensemble\n",
    "- Namely, if an enselble $X$ has ${\\cal A}_X$ the set of all $2^8$ strings of 8 bits, and $p_i=1/2^8$ so the outcomes are equiprobable, then the infromation content of an outcome is \n",
    "$h(x)\n",
    "=\\log_2\\left( \\frac{1}{p_i}\\right)\n",
    "=\\log_2\\left( \\frac{1}{1/2^8 }\\right)\n",
    "=8\\,{\\rm bits}.$\n",
    "\n",
    "**Definition** The **entropy** $H(X)$ of the ensemble $X$ is the expected value of the information; \n",
    "$$\n",
    "H(X) = \\sum\\limits_{x\\in {\\cal A}_X} P(x)\\log\\left(\\frac1{P(x)}\\right).\n",
    "$$"
   ]
  },
  {
   "cell_type": "markdown",
   "id": "84fbe3ca-3202-4054-aa16-18dd13edd698",
   "metadata": {},
   "source": [
    "Motivations for these definitions of information and entropy: \n",
    "1. Information decreases with increasing probability; low probability outcomes reveal more information.\n",
    "2. If two random variables $x,y$ are independent then \n",
    "    1. the information content of an outcome $(x,y)$ from their joint ensemble is the sum of the informations of the outcomes from the indivisual ensembles; \n",
    "    $$P(x,y) = P(x)P(y) \\\\\n",
    "    \\Rightarrow h(x,y) \n",
    "=\\log_2\\left( \\frac{1}{P(x)P(y)}\\right) \\\\\n",
    "=\\log_2\\left( \\frac{1}{P(x)}\\right) \n",
    "+\\log_2\\left( \\frac{1}{P(y)}\\right) \\\\\n",
    "=  h(x) + h(y).$$\n",
    "    2. the entropy of a joint ensemble from two independent ensembles is the sum of the entropys of the individual ensembles;\n",
    "    \n",
    "$$ H(X,Y) = \\sum P(x,y)\\log_2(1/P(x,y)) \\\\\n",
    "= \\sum_{x,y}P(x)P(y) \\log_2(1/P(x)) + \\sum_{x,y}P(x)P(y)\\log_2(1/P(y)) \\\\\n",
    "= \\sum_{x}P(x) \\log_2(1/P(x)) + \\sum_{y}P(y)\\log_2(1/P(y))  \\\\\n",
    "= H(X) + H(Y) \n",
    "$$\n",
    "3. Entropy is maximized by uniform probaility, \n",
    "$$\\nabla\\left[ \\sum_i p_i \\log_2(p_i)  +\\lambda \\left(\\sum_i p_i -1\\right ) \\right] = 0 \\Rightarrow p_i = \\frac1N.$$\n",
    "\n",
    "4. Entropy is minimized to 0 with any $p_i=1$\n",
    "\n",
    "\n"
   ]
  },
  {
   "cell_type": "markdown",
   "id": "dce183aa-12f6-441b-9e18-2f219d53d53b",
   "metadata": {},
   "source": [
    "### 4.1 Information content of a random variable\n",
    "Characterizing informaton: \n",
    "\n",
    "What is maximumm entropy? The expected information from a random experiment is largest if the probability distribution over outcomes is uniform. \n",
    "- As in questions in 20 questions that split the world into two parts of equal 'size'.\n",
    "    - In the simpler, more quantifiable game of '20 questions for a number between 0 and $2^6-1', each question can exclude half the possibilities, and the booleans written as a string form the binary representation of the secret number. So 6 questions are needed and the information obtained from the 6 questions is binary for the secret number. \n",
    "\n",
    "- As with the minimizing the number of weighing experiments for 12 balls, 1 ball with unique weight to be identified, the three outcomes designed to have as close to equiprobability as possible.  "
   ]
  },
  {
   "cell_type": "markdown",
   "id": "66a2769d-bf86-4fcb-b98f-8c23f8473371",
   "metadata": {},
   "source": [
    "Information obtained in a sequence of experiments is independent of the sequence of experiments:\n",
    "- In BattleShip with a boat on 1 of 64 squares, The inforamation gathered when the first $N$ attempts, all of which are misses, is \n",
    "$$h = \n",
    "-\\log_2\\left( \n",
    "\\frac{63}{64}\n",
    "\\frac{62}{63}\n",
    "\\cdots\n",
    "\\frac{64-N}{65-N}\n",
    "\\right)\n",
    "=\n",
    "-\\log_2\\left( \n",
    "\\frac{64-N}{64}\n",
    "\\right)\n",
    "$$\n",
    "while the information gained when the $N+1$th attempt is a hit is $-\\log_2\\left( \\frac{1}{64-N} \\right)$\n",
    "For a total information of \n",
    "$$\n",
    "-\\log_2\\left( \\frac{1}{64} \\right) = 6$$\n",
    "\n",
    "which is exactly the number of bits required to encode the position of one of the $2^6$ squares. \n",
    "\n",
    "Note: The successfull shot at the end was lower probaibility and gave more information than the higher probability missing shots. "
   ]
  },
  {
   "cell_type": "markdown",
   "id": "c32519cd-2e57-4086-ab40-dc4b445fb894",
   "metadata": {},
   "source": [
    "### 4.2 Data Compression\n",
    "\n",
    "**Definition:** The **raw bit content** $H_0(X)$ of the ensemble $X$ is $\\log_2(|{\\cal A}_X|)$.\n",
    "\n",
    "Interpretation: The raw bit content is a lower bound on the number of binary questions needed to identify an outcome in the ensemble $X$. That is, of course more bits can do it, but the ceiling of the raw bit content is the minimum number of bits. \n",
    "\n",
    "### 4.3 Information content defined in terms of lossy compression\n",
    "\n",
    "**Definition:** A **smallest $\\delta$-sufficent subset** $S_\\delta$ of the set of outcomes ${\\cal A}_X$ of the ensemble $X$ is a smallest subset of ${\\cal A}_X$ satisfying $P(x\\in S_\\delta)\\geq 1-\\delta $. "
   ]
  },
  {
   "cell_type": "markdown",
   "id": "b3c2a476-49f3-4aa7-8296-27494ab3bd15",
   "metadata": {},
   "source": [
    "**Definition** The **essential bit content** $H_\\delta(X)$ of the ensemble $X$ is the function of $\\delta$ defined in terms of the smallest $\\delta$-sufficient subset as $H_\\delta(X) = \\log_2|S_\\delta|$.\n",
    "\n",
    "Interpretation: If you are willing to not encode some of the outcomes, and in particular are willing to tollerate a probability $\\delta$ of not encoding one, then you have fewer outcomes to encode in binary, and thus need fewer digits. The essential bit content provides a lower bound on the number of biary symbols needed when you are willing to tollerate loss of symbols with probability $\\delta$. "
   ]
  },
  {
   "cell_type": "markdown",
   "id": "1dd66e23-8526-4e7b-b1df-6420b33c28b0",
   "metadata": {},
   "source": [
    "**e.g.**  \n",
    "Some number $N$ IID Bernoulli $x = (x_1,\\dots,x_n)$ with $p_1=0.1$ form a binomial ensemble $X^N = (x,A,P)$. The statistic $r(x) = \\sum x_i$ has small  expectation value because $p_1$ is small; large sums are improbible. The probability distribution of $x$ is $P(x) = p_0^{N-r(x)} p_1^{r(x)}$. We will find the essential bit content of the ensemble $X^N$. To do this we find $S_\\delta$, which is a subset of $\\{x_1,\\dots,x_n\\,|\\,x_i\\in\\{0,1\\} \\} $. Because of the small value of $p_1$, we obtain $S_\\delta$ by excluding some of the $x$ with large sums. Thus, $S_\\delta$ contains all of the $x$ with $r(x) \\in \\{0,1,\\dots,r_{\\rm max}(\\delta) -1\\}$, and to avoid discarding too many outcomes and making the probability of missing encodeing too large, some of the $x$ with $r(x)=r_{\\rm max}(\\delta)$. \n",
    "\n",
    "Consider the graph of $H_\\delta(X^n)=\\log_2|S_\\delta|$ vs $\\delta$. "
   ]
  },
  {
   "cell_type": "code",
   "execution_count": 42,
   "id": "2bcd95bd-efbd-4453-b334-bda29894cec2",
   "metadata": {
    "tags": []
   },
   "outputs": [
    {
     "data": {
      "image/png": "[encoded data removed]",
      "text/plain": [
       "<Figure size 432x288 with 1 Axes>"
      ]
     },
     "metadata": {
      "needs_background": "light"
     },
     "output_type": "display_data"
    }
   ],
   "source": [
    "import matplotlib.pyplot as plt\n",
    "import numpy as np\n",
    "\n",
    "# Reminder: string length 14 takes longer than you'd like\n",
    "p0 = 0.9\n",
    "p1 = 1-p0\n",
    "\n",
    "H = p0*np.log2(1/p0) + p1*np.log2(1/p1)\n",
    "number_of_deltas = 100\n",
    "deltas = np.linspace(0,1,number_of_deltas)\n",
    "\n",
    "def binary_strings(string_length):\n",
    "    \"\"\"Generate all binary strings of specified length.\"\"\"\n",
    "    binary_numbers = [bin(i)[2:] for i in range(2**string_length)]\n",
    "    binary_strings = ['0'*(string_length-len(num))+num \n",
    "                      for num in binary_numbers]\n",
    "    return binary_strings\n",
    "\n",
    "def string_probability(s):\n",
    "    \"\"\"Calculate the probability of the string.\"\"\"\n",
    "    string_length = len(s)\n",
    "    number_of_ones = len(s.replace('0',''))\n",
    "    probability_of_ones = p1**number_of_ones\n",
    "    probability_of_zeros = p0**(string_length - number_of_ones)\n",
    "    probaiblity_of_string = probability_of_ones * probability_of_zeros\n",
    "    return probaiblity_of_string\n",
    "\n",
    "    \n",
    "def string_probabilities(strings):\n",
    "    probs = [string_probability(s) for s in strings]\n",
    "    # print(sum(probs))\n",
    "    assert np.isclose(sum(probs) , 1.0)\n",
    "    return probs\n",
    "\n",
    "def cardinality_of_s_delta(delta, string_length):\n",
    "    \"\"\"Calculate the cardinality of s_delta from the list of probabilities.\"\"\"\n",
    "    probs = string_probabilities(binary_strings(string_length))\n",
    "    while sum(probs) > 1 - delta:\n",
    "        probs.pop( probs.index(min(probs)))\n",
    "    return len(probs)\n",
    "\n",
    "def cardinalities(string_length):\n",
    "    return [cardinality_of_s_delta(delta,string_length) for delta in deltas]\n",
    "\n",
    "def essential_bit_contents(string_length):\n",
    "    cards = cardinalities(string_length)\n",
    "    return [np.log2(card) if card != 0 else None for card in cards]\n",
    "\n",
    "\n",
    "\n",
    "plt.axhline(y=H, color = 'red', label = 'Entropy')\n",
    "plt.title('Essential Bit Content Per Digit ' \n",
    "          + 'vs Tollerated Probability of Not Encoding \\n'\n",
    "         + f'For Binomial ensemble, P_1={p1:.2f}')\n",
    "plt.xlabel('Tollerated Probability, \\u03B4')\n",
    "plt.ylabel('Essential Bit Rate H_\\u03B4')\n",
    "for string_length in [4,8,11]:\n",
    "    ebcs = essential_bit_contents(string_length)\n",
    "    essential_bit_rates = [ebc/string_length if ebc is not None else None \n",
    "                           for ebc in ebcs ]\n",
    "    plt.plot(\n",
    "        deltas,\n",
    "        essential_bit_rates, label = f'string_length {string_length}'\n",
    "        )\n",
    "plt.legend()    \n",
    "plt.show;"
   ]
  },
  {
   "cell_type": "markdown",
   "id": "daea75ce-2f24-4ed5-bea8-61794a23df8f",
   "metadata": {},
   "source": [
    "As delta increases, $S_\\delta$ shrinks and so does the essential bit content. \n",
    "\n",
    "For example, in $X^{10}$ there are $2^{100}$ outcomes. As $\\delta$ increases from zero\n",
    "- the essential bit content is a constant of 1 until $\\delta = p_1^{100}$, the probability of the lowest probability event. \n",
    "    - When delta crosses that line, the event $x=(1,\\dots,1)$ is the first to go from $A$ to create $S_\\delta$,  \n",
    "    - and $r_{ \\rm min }$  drops to 99. \n",
    "- Next, when $\\delta$ gets to $p_1^{100} + p_1^{99}p_0$, the probability of the next smallest probability event, there are ${{100}\\choose{1}} =100$ events $x$ with $r(x)=99$, \n",
    "    - any one of them can be dropped to get $S_\\delta$.\n",
    "    - $r_{\\rm min}$ does not change from $99$."
   ]
  },
  {
   "cell_type": "markdown",
   "id": "77414557-7732-4ae6-95eb-57834c66c3c7",
   "metadata": {
    "tags": []
   },
   "source": [
    "- As $\\delta$ goes up to $p_i^{100} + n p_i^{99}p_0$ for $n<{{100}\\choose{1}}=100$... \n",
    "    - we drop more elements with exactly one 0 and thus probability $p_1^{99}p_0$, \n",
    "    - all the while $r_{\\rm min} = 99$.   \n",
    "    - $r_{99}:=\\frac{\\Delta |S_\\delta|}{\\Delta \\delta } = -\\frac{1}{p_i^{99}p_0}$ is constant and negative while this happens, \n",
    "    - so $H_\\delta = \\log(2^{99}-r_{99}\\delta)$ where $2^{99}$ is the size of the set $S_\\delta$ just before $r_{rm min}$ dropped to $99$."
   ]
  },
  {
   "cell_type": "markdown",
   "id": "8f4a0f09-bb1a-43ab-afa8-14e529c6dfa8",
   "metadata": {},
   "source": [
    "- For $\\delta$ to increase beyond $p_1^{100}+100p_1^{99}p_0^1$, the value of  $r_{\\rm min}$ must decrease by 1. \n",
    "    - there are ${{100}\\choose{2}}$ elements with probability $p_1^{98}p_0^2$ to remove at that value.\n",
    "    - $r_{\\rm min}$ is constant while they are removed\n",
    "    - $r_{98} = \\frac{\\Delta |S_\\delta|}{\\Delta \\delta } = \\frac{1}{p_1^{98}p_0^2}$ is constant and negative while this happens, \n",
    "    - so $H_\\delta \\sim log(2^{98}-r_{98}\\delta)$ where $2^{98}$ is the size of the set $S_\\delta$ when $r_{rm min}$ dropped.\n",
    "- ... etc, giving a piecewise logapithmic function, one piece for each value of $r_{\\rm min}$.\n",
    "- When $\\delta$ crosses $1-(p_1)^{1}(p_0)^{99}$ the last of the elements must be dropped, leaving $S_\\delta =\\{\\}$."
   ]
  },
  {
   "cell_type": "markdown",
   "id": "ef50da10-8371-4e26-8134-aaa1bd4f5342",
   "metadata": {},
   "source": [
    "In summary, there are \n",
    "1. many small steps down where $|S_\\delta|$ decreases with constant $r_{\\rm min}$\n",
    "2. cusps where $r_{\\rm max}$ changes; these are places where the rate $\\frac{\\Delta |S_\\delta|}{\\Delta \\delta}$ of loss of elements per unit $\\delta$ changes from one constant $p_0^{N-r(x)} p_1^{r(x)}$ to another $p_0^{(N-1)-r(x)} p_1^{r(x)+1}$.  \n",
    "    1. because $H_\\delta(X^N)$ is logarithmic, the graph is piece wise logarithmic."
   ]
  },
  {
   "cell_type": "markdown",
   "id": "792484c2-daf0-4b22-a2e6-98d299848cb0",
   "metadata": {},
   "source": [
    "Message: For large $N$ the blue curve approaches the constant function $NH$ where $H$ is the entropy of a single ranfom variable. That is, for large $N$, compression of strings of $N$ bits any number more than $NH$ bits is possible with very small probability of error $\\delta$, but compression to less than $NH$ bits  makes loss of information almost certain. \n",
    "\n",
    "**Theorem** (Shannon's source coding theorem) Let $X$ be an ensemble with $H(X)=H$. For all $\\epsilon>0$ and $\\delta\\in(0,1)$ there exists $N_0\\in\\mathbb{N}$ such that for all $N>N_0$ \n",
    "$$\n",
    "\\left|  \\frac{1}{N}H_\\delta(X^N) - H \\right| < \\epsilon.\n",
    "$$"
   ]
  },
  {
   "cell_type": "markdown",
   "id": "65b39d95-30f8-475c-abea-7517c2f61459",
   "metadata": {},
   "source": [
    "He Thinking: If $H=1$ as for an equiprobable distribution on two outcomes, then no compression is possible, but for any distribution that does not maximize entropy, compression is possible. For $I$-nary outcomes, the equiprobable distribution ensemble has entropy $\\log_2(I)>1$, and the probability distribution needs to be non-uniform enough for $H$ to be less than 1 for compression to happen. "
   ]
  },
  {
   "cell_type": "markdown",
   "id": "ae4703b3-4f7c-49d1-a109-394b37c86f3c",
   "metadata": {},
   "source": [
    "### 4.4 Typicality \n",
    "Why does increasing $N$ help in the ability to have good encodings?"
   ]
  },
  {
   "cell_type": "markdown",
   "id": "ff99e8dd-d388-47a3-ac1c-0aa7e518a663",
   "metadata": {},
   "source": [
    "Consider a binomial random variable  $X^N$ (sum of Bernoulli random variables). As $N$ increases (the size of the random sample)\n",
    "- the mean number of 1s scales as $N$ \n",
    "- the variance of number of 1s scales as $\\sqrt N$\n",
    "\n",
    "so the approximare value of $r \\sim p_1 N  \\pm \\sqrt{p_0p_1}\\sqrt{N}$, so that the relative error $\\frac{\\sqrt{p_0p_1}\\sqrt{N}}{p_1 N } \\to 0$ as $N\\to \\infty$."
   ]
  },
  {
   "cell_type": "markdown",
   "id": "72c4e821-2e4d-4062-bdf7-80e3a7da6c9f",
   "metadata": {},
   "source": [
    "That is, for large values of $N$ we have smaller relative error; we have a good idea of what is typical. \n",
    "\n",
    "For a multinomial distribution (sum of categorical random variables) with probabilities $(p_1,\\dots,p_I)$ the expected number of elements in category $i$ is $Np_i$. Thus, the probability of a typical string is \n",
    "$$\n",
    "P(x)_{typical} \\approx \\prod\\limits_{i=1}^I p_i^{(p_iN)}\n",
    "$$\n",
    "and the information content of a typical string is \n",
    "$$h(x)_{typical} \\approx \\log_2\\left(\\frac1{P(x)_{typical}} \\right)\\\\\n",
    "=N \\sum_i p_i \\log_2(1/p_i) = NH.\n",
    "$$"
   ]
  },
  {
   "cell_type": "markdown",
   "id": "8d015344-1c66-4c39-a0b5-5d266ebce74a",
   "metadata": {},
   "source": [
    "Flipping that around, we define typical elements to be the strings $x$ that have $P(x) \\approx 2^{-NH}$ with 'close' quantified by a parameter $\\beta$.\n",
    "\n",
    "**Definition** The **set of typical elements** of the random sample ensemble $X^N$ from the random variable $X$ with $H(X)=H$ is the set \n",
    "$$T_{N\\beta} = \n",
    "\\left\\{ x\\in{\\cal A}_{X^N}\\,:\\, \\left| \\frac1N \\log_2 \n",
    "\\left( \\frac{1}{ P(x) } \\right) - H \\right| < \\beta\\right\\}.\n",
    "$$.\n"
   ]
  },
  {
   "cell_type": "markdown",
   "id": "73d79c5f-1d68-4297-b52b-70174ded6bd8",
   "metadata": {},
   "source": [
    "Interpretation: For any $\\beta$,  this set will contain almost all the probability for sufficiently large $N$. \n",
    "\n",
    "**Theorem (The asymptotic equipartition principle)** For an ensemble $X^N$ of $N$ IID random variables with $N$ sufficiently large, the outcome $x=(x_1,\\dots,x_N)$ is almost certain to belong to a subset of ${\\cal A}_X$ having only $2^{NH(X)}$ on which the probability is almost uniformly $2^{-NH} for each element.\n",
    "\n",
    "Note: If the entropy $H(X)$ and raw bit content $H_0(X)$ of the ensemble $X$ satisfy \n",
    "$$H(X)< H_0(X)$$\n",
    "then the set of typical elements is much smaller that the set of outcomes;\n",
    "$$\n",
    "2^{NH} \\ll 2^{N H_0} = |{\\cal A}_X|.\n",
    "$$"
   ]
  },
  {
   "cell_type": "markdown",
   "id": "bc67195a-e0c1-4e64-8733-ecca9be8084c",
   "metadata": {},
   "source": [
    "# Ch5 Symbol Codes\n",
    "\n",
    "Notation: $S^+$ stands for the set of strings of all finite lengths with letters from $S$. \n",
    "\n",
    "**Definition** A **binary symbol code** for an ensemble $X=(x,{\\cal A},P)$ is a mapping $c: {\\cal A}\\to \\{0,1 \\}^+$.\n",
    "\n",
    "**Definition:** The **codework** for the outcome $x$ is in the symbol code $c$ is $c(x)$.\n",
    "\n",
    "**Definition** The **extended code** of the symbol code $c$ is the function $c^+: {\\cal A} \\to \\{0,1\\}^+$ such that $c^+(x_1x_2...x_N) = c(x_1)c(x_2)...c(x_N).$\n",
    "\n",
    "**Definition** The code $c$ is **uniquely decodable** if $[\\forall x,y \\in {\\cal A}^+] (x\\neq y \\Rightarrow c^+(x) \\neq c^+(y)).$"
   ]
  },
  {
   "cell_type": "markdown",
   "id": "60479fcb-bc33-4e70-a18d-c1988514428e",
   "metadata": {},
   "source": [
    "**Definition** A **prefix code** is a symbol code with the property that no codework is a prefix of another codeword. \n",
    "\n",
    "**Definition** The **expected length** $L(c,X)$ of a symbol code $c$ for an ensemble $X$ is the expectation value of the length $l(c(x))$ of the encodeing $c(x)$; taht is $L(c,X) = \\sum\\limits_{x\\in{\\cal A} }^I P(x) l(c(x))$. "
   ]
  },
  {
   "cell_type": "markdown",
   "id": "0ea97072-5635-4c17-91d4-b63a52f09762",
   "metadata": {},
   "source": [
    "**Theorem (The Kraft inequality)** For any uniquely decodable binary symbol code $c$ of the ensemble $X$, the codework lengths satisfy $\\sum\\limits_{i=1}^I 2^{-l_i} \\leq 1$. \n",
    "\n",
    "**Definition** If a uniquely decodable code satisfies the Kraft inequality with equality then it is a **complete code**. \n",
    "\n"
   ]
  },
  {
   "cell_type": "markdown",
   "id": "3ce60243-7c67-4e3e-ba0d-674d93ed50bb",
   "metadata": {},
   "source": [
    "**Theorem** The entropy of an ensemble $X$ is a lower bound on the expected length $L(c,X)$ of a symbol code $c$ for that ensemble; $H(X)\\leq L(c,X)$ with equality holding only if the code lengths $l_i$ of the outcomes $a_i$ are the Shannon information $h(a_i) = \\log_2(1/p_i)$ of the outcomes. \n",
    "\n"
   ]
  },
  {
   "cell_type": "markdown",
   "id": "7d91a5f8-d8f7-41c4-b43b-fff699f9fef2",
   "metadata": {},
   "source": [
    "**Definition** A symbol code is an **optimal symbol code** if $H(X) = L(c,X)$. \n",
    "\n",
    "Note: The codition for an optimal symbol code requires that all of the probabilities $p_i = 2^{-l_i}$ are powers of two. Thus, if any of the probabilities are not powers of 2 then the equality can not hold.  \n",
    "\n",
    "**Theorem (The source coding theorem for symbol codes)** Every ensemble $X$ has a prefix code $c$ satisfying \n",
    "$H(X) \\leq L(c,X) \\leq H(X)+1$."
   ]
  },
  {
   "cell_type": "markdown",
   "id": "806c49a6-b8a9-4824-8882-fe26cc1e97d6",
   "metadata": {},
   "source": [
    "Note: If the probabilites are $\\{p_i\\}$ and the optimal probabilities $q_i = 2^{-l_i}$ then $L(c,X) = H(X) + \\sum\\limits_{i}p_i\\log \\left( \\frac{p_i}{q_i} \\right)$."
   ]
  },
  {
   "cell_type": "markdown",
   "id": "c5ffb790-cf71-45b0-be81-c2433d014a52",
   "metadata": {},
   "source": [
    "**Definition** The **relative entropy** or **Knullback-Lieber divergence** of two probability distributions $P,Q$ defined over the same alphabet ${\\cal A}$ is \n",
    "$D_{KL}(P||Q) = \\sum\\limits_{x\\in{\\cal A}}P(x)\\log\\left( \\frac{P(x)}{Q(x)} \\right)$."
   ]
  },
  {
   "cell_type": "markdown",
   "id": "1f775d12-e999-40a8-ace2-7b70d33b6e02",
   "metadata": {},
   "source": [
    "Notes... using some wikipedia and thus mixing notation: \n",
    "- $D_{KL}(P||Q) \\geq 0$ with equality iff $P=Q$. This is called **Gibbs' inequality**\n",
    "- $D_{KL}$ is not symmetric, so it is not quite an inner product on OR a distance between probability distributions over ${\\cal A}$. \n",
    "- The Gibbs' inequality can be written as $\\sum_i p_i \\log(1/p_i) \\leq \\sum_i p_i \\log(1/q_i)$, which can be read as the entropy of a distribution is less than the cross entropy between two distributions. \n",
    "- **Definition** The **cross entropy** $H(P,Q)$ of distriibution $Q$ relative to distribution $P$ is the expectation value of the information $\\log_2(1/Q(x))$ under the distribution $P$, so that $H(P,Q) = \\sum\\limits_{x\\in {\\cal X}} P(X) \\log(Q(x))$\n",
    "- The cross entropy can be interpreted as the expected message length per dataum when an incorrect distribution $Q$ is assumed while the actual population has distribution $P$. \n",
    "- $L(c,(x,A,P))= H(P,Q) = H(Q) + D_{KL}(P||Q)$."
   ]
  },
  {
   "cell_type": "markdown",
   "id": "8e33e6ba-1c55-408c-b104-02e48bb52fad",
   "metadata": {},
   "source": [
    "### 5.5 Huffman coding\n",
    "The algorithm to design an optimal prefix code has two steps and repeat\n",
    "1. Order by probabilities in the alphabet. These are leves in a tree graph constructed as follows\n",
    "2. tree-like combine the two least probable letters into a single letter, labeling the branches 0 and 1.\n",
    "3. repeat steps 1 and 2 untill all symbols have been combined into a root.\n",
    "\n",
    "The code of a letter is obtained by traveling from the root to the leaf, thereby reading the binary digits in the reverse order from their construction. \n",
    "\n"
   ]
  },
  {
   "cell_type": "markdown",
   "id": "a401b86f-164e-403e-aa70-d5408740bbfe",
   "metadata": {},
   "source": [
    "Note: Huffman encoding is optimal, whereas the idea of running experiments that both provide the max number of outcomes AND have as close to equiprobability of outcomes do not always provide optimal encoding. These are called greedy algorithms. That is, Huffman in reverse is NOT always greedy splitting. \n",
    "\n",
    "### 5.6 Disadvantages of Huffman encoding\n",
    "\n",
    "1. Huffman does not take account of things like the fact that u is much more probable if q preceeds it.\n",
    "2. $H(X) \\leq L(c,X) < H(X)+1$, so we can incur up to 1 bit per symbol inefficiency in encoding strings of $N$ bits. That can add up to a lot if $N$ is large. \n",
    "\n",
    "One fix up is to encode blocks of symbols so that the inefficiency per block is less than 1 bit, and thus the max inefficiency per character goes down to $1/N$. But this cones at the cost of needing to know the probabilities of blocks, a real loss of elegance. "
   ]
  },
  {
   "cell_type": "markdown",
   "id": "805c2694-db4b-4f33-af32-9cc4721267da",
   "metadata": {},
   "source": [
    "# Ch6 Stream Codes"
   ]
  },
  {
   "cell_type": "markdown",
   "id": "9bb916fa-5356-4280-841b-7811494b81ef",
   "metadata": {},
   "source": []
  },
  {
   "cell_type": "markdown",
   "id": "c10a166d-d312-422d-a52a-1ef67570f916",
   "metadata": {},
   "source": []
  },
  {
   "cell_type": "markdown",
   "id": "49eb91c1-800d-416f-aa9e-9f51802d6cdf",
   "metadata": {},
   "source": []
  },
  {
   "cell_type": "markdown",
   "id": "4a1399b1-4435-42a3-b47d-2183b9f3200c",
   "metadata": {},
   "source": []
  },
  {
   "cell_type": "markdown",
   "id": "912b7d90-d621-4dc9-a81a-6a006b84e92e",
   "metadata": {},
   "source": []
  },
  {
   "cell_type": "markdown",
   "id": "67c918a5-9bf0-4299-8470-b695b597b0e0",
   "metadata": {},
   "source": []
  },
  {
   "cell_type": "markdown",
   "id": "c757de36-f83f-4c7d-92e1-6264cfed49eb",
   "metadata": {},
   "source": []
  },
  {
   "cell_type": "markdown",
   "id": "db70e476-7b7f-49a8-a837-75498da0ee06",
   "metadata": {},
   "source": []
  },
  {
   "cell_type": "markdown",
   "id": "47e36b73-3d1f-4bb6-b377-4facc8d58afe",
   "metadata": {},
   "source": []
  },
  {
   "cell_type": "markdown",
   "id": "2f42d6f3-6d0d-4a04-acf4-239bbd7bdda0",
   "metadata": {},
   "source": []
  },
  {
   "cell_type": "markdown",
   "id": "24b12026-f231-4129-bbe3-a79fee4936ae",
   "metadata": {},
   "source": []
  },
  {
   "cell_type": "markdown",
   "id": "2030a513-43e4-4bad-beca-3a0ad731668f",
   "metadata": {},
   "source": []
  },
  {
   "cell_type": "markdown",
   "id": "05a693be-d76d-4341-9ec1-cedc24f4d054",
   "metadata": {},
   "source": []
  },
  {
   "cell_type": "markdown",
   "id": "20133a69-1c25-48de-9bbd-7b78e8b6c262",
   "metadata": {},
   "source": [
    "\n"
   ]
  }
 ],
 "metadata": {
  "kernelspec": {
   "display_name": "Python 3 (ipykernel)",
   "language": "python",
   "name": "python3"
  },
  "language_info": {
   "codemirror_mode": {
    "name": "ipython",
    "version": 3
   },
   "file_extension": ".py",
   "mimetype": "text/x-python",
   "name": "python",
   "nbconvert_exporter": "python",
   "pygments_lexer": "ipython3",
   "version": "3.9.7"
  }
 },
 "nbformat": 4,
 "nbformat_minor": 5
}
